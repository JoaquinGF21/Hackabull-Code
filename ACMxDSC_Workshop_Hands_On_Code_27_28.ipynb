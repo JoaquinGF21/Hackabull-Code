{
  "metadata": {
    "kernelspec": {
      "language": "python",
      "display_name": "Python 3",
      "name": "python3"
    },
    "language_info": {
      "pygments_lexer": "ipython3",
      "nbconvert_exporter": "python",
      "version": "3.6.4",
      "file_extension": ".py",
      "codemirror_mode": {
        "name": "ipython",
        "version": 3
      },
      "name": "python",
      "mimetype": "text/x-python"
    },
    "kaggle": {
      "accelerator": "none",
      "dataSources": [
        {
          "sourceId": 2603715,
          "sourceType": "datasetVersion",
          "datasetId": 1582403
        }
      ],
      "dockerImageVersionId": 30213,
      "isInternetEnabled": true,
      "language": "python",
      "sourceType": "notebook",
      "isGpuEnabled": false
    },
    "colab": {
      "provenance": [],
      "collapsed_sections": [
        "OLPBlb7aiody",
        "ZQETovDvfrpi",
        "DJ09ImnBiod1"
      ],
      "include_colab_link": true
    }
  },
  "nbformat_minor": 0,
  "nbformat": 4,
  "cells": [
    {
      "cell_type": "markdown",
      "metadata": {
        "id": "view-in-github",
        "colab_type": "text"
      },
      "source": [
        "<a href=\"https://colab.research.google.com/github/JoaquinGF21/Hackabull-Code/blob/master/ACMxDSC_Workshop_Hands_On_Code_27_28.ipynb\" target=\"_parent\"><img src=\"https://colab.research.google.com/assets/colab-badge.svg\" alt=\"Open In Colab\"/></a>"
      ]
    },
    {
      "cell_type": "markdown",
      "source": [
        "# **Heart Failure Prediction**"
      ],
      "metadata": {
        "id": "RJEqWkUZiodw"
      }
    },
    {
      "cell_type": "markdown",
      "source": [
        "\n",
        "\n",
        "### Aim :\n",
        "- To classify / predict whether a patient is prone to heart failure depending on multiple attributes.\n",
        "- It is a **binary classification** with multiple numerical and categorical features.\n",
        "\n",
        "### <center>Dataset Attributes</center>\n",
        "    \n",
        "- **Age** : age of the patient [years]\n",
        "- **Sex** : sex of the patient [M: Male, F: Female]\n",
        "- **ChestPainType** : chest pain type [TA: Typical Angina, ATA: Atypical Angina, NAP: Non-Anginal Pain, ASY: Asymptomatic]\n",
        "- **RestingBP** : resting blood pressure [mm Hg]\n",
        "- **Cholesterol** : serum cholesterol [mm/dl]\n",
        "- **FastingBS** : fasting blood sugar [1: if FastingBS > 120 mg/dl, 0: otherwise]\n",
        "- **RestingECG** : resting electrocardiogram results [Normal: Normal, ST: having ST-T wave abnormality (T wave inversions and/or ST elevation or depression of > 0.05 mV), LVH: showing probable or definite left ventricular hypertrophy by Estes' criteria]\n",
        "- **MaxHR** : maximum heart rate achieved [Numeric value between 60 and 202]\n",
        "- **ExerciseAngina** : exercise-induced angina [Y: Yes, N: No]\n",
        "- **Oldpeak** : oldpeak = ST [Numeric value measured in depression]\n",
        "- **ST_Slope** : the slope of the peak exercise ST segment [Up: upsloping, Flat: flat, Down: downsloping]\n",
        "- **HeartDisease** : output class [1: heart disease, 0: Normal]"
      ],
      "metadata": {
        "id": "d-fawFB_iodx"
      }
    },
    {
      "cell_type": "markdown",
      "source": [
        "# **Data Collection**"
      ],
      "metadata": {
        "id": "OLPBlb7aiody"
      }
    },
    {
      "cell_type": "markdown",
      "source": [
        "### Import the Necessary Libraries :"
      ],
      "metadata": {
        "id": "3-P9HMAHiody"
      }
    },
    {
      "cell_type": "code",
      "source": [
        "import pandas as pd\n",
        "import numpy as np\n",
        "import matplotlib.pyplot as plt\n",
        "%matplotlib inline\n",
        "import seaborn as sns"
      ],
      "metadata": {
        "execution": {
          "iopub.status.busy": "2022-10-25T12:54:47.718109Z",
          "iopub.execute_input": "2022-10-25T12:54:47.720331Z",
          "iopub.status.idle": "2022-10-25T12:54:48.502285Z",
          "shell.execute_reply.started": "2022-10-25T12:54:47.719992Z",
          "shell.execute_reply": "2022-10-25T12:54:48.50099Z"
        },
        "trusted": true,
        "id": "_rSdbpriiody"
      },
      "execution_count": null,
      "outputs": []
    },
    {
      "cell_type": "code",
      "source": [
        "#Read the csv file"
      ],
      "metadata": {
        "scrolled": true,
        "execution": {
          "iopub.status.busy": "2022-10-25T12:54:48.50462Z",
          "iopub.execute_input": "2022-10-25T12:54:48.505025Z",
          "iopub.status.idle": "2022-10-25T12:54:48.557159Z",
          "shell.execute_reply.started": "2022-10-25T12:54:48.504988Z",
          "shell.execute_reply": "2022-10-25T12:54:48.555811Z"
        },
        "trusted": true,
        "id": "y-iHyrqsiodz"
      },
      "execution_count": null,
      "outputs": []
    },
    {
      "cell_type": "markdown",
      "source": [
        "### Data Info :"
      ],
      "metadata": {
        "id": "lX27Vbqhiodz"
      }
    },
    {
      "cell_type": "code",
      "source": [
        "#Get the dataset shape"
      ],
      "metadata": {
        "execution": {
          "iopub.status.busy": "2022-10-25T12:54:48.558866Z",
          "iopub.execute_input": "2022-10-25T12:54:48.559274Z",
          "iopub.status.idle": "2022-10-25T12:54:48.568229Z",
          "shell.execute_reply.started": "2022-10-25T12:54:48.559238Z",
          "shell.execute_reply": "2022-10-25T12:54:48.566661Z"
        },
        "trusted": true,
        "id": "lPTC1aNRiodz"
      },
      "execution_count": null,
      "outputs": []
    },
    {
      "cell_type": "code",
      "source": [
        "#Get Columns in dataset"
      ],
      "metadata": {
        "execution": {
          "iopub.status.busy": "2022-10-25T12:54:48.570154Z",
          "iopub.execute_input": "2022-10-25T12:54:48.570535Z",
          "iopub.status.idle": "2022-10-25T12:54:48.580511Z",
          "shell.execute_reply.started": "2022-10-25T12:54:48.5705Z",
          "shell.execute_reply": "2022-10-25T12:54:48.579178Z"
        },
        "trusted": true,
        "id": "IQs5QJTgiodz"
      },
      "execution_count": null,
      "outputs": []
    },
    {
      "cell_type": "code",
      "source": [
        "#Find the Null values in the dataset parameters"
      ],
      "metadata": {
        "id": "Tt4qW8-r3ibJ"
      },
      "execution_count": null,
      "outputs": []
    },
    {
      "cell_type": "markdown",
      "source": [
        "# Dealing with Misssing Values in the Dataset:\n",
        "There are two ways:\n",
        "1. **Remove the missing values in the dataset**: If the missing values are a small proportion of your dataset, you may choose to remove the rows or columns containing them. This can be done using the dropna() function in pandas.\n",
        "2. **Imputing the dataset**: Replace missing values with a suitable estimate. Common methods include:\n",
        "  * Mean/Median Imputation: Replace missing values with the mean or\n",
        "median of the column.\n",
        "  * Mode Imputation: Replace missing values with the mode (most frequent value) of the column.\n",
        "  * Custom Imputation: Use domain knowledge or other statistical methods to impute missing values.\n",
        "\n",
        "\n",
        "\n",
        "\n"
      ],
      "metadata": {
        "id": "ZQETovDvfrpi"
      }
    },
    {
      "cell_type": "code",
      "source": [
        "#Replacing the missing values into the mean of the dataset.\n"
      ],
      "metadata": {
        "id": "vLBOUN2d6KtT"
      },
      "execution_count": null,
      "outputs": []
    },
    {
      "cell_type": "code",
      "source": [
        "#Finding the number of O's and number of 1's\n"
      ],
      "metadata": {
        "id": "4jbrgYYqvtoC"
      },
      "execution_count": null,
      "outputs": []
    },
    {
      "cell_type": "code",
      "source": [
        "#Filling the ChestPainType parameter with the most common value for the parameter."
      ],
      "metadata": {
        "id": "5lpcOizqv9oa"
      },
      "execution_count": null,
      "outputs": []
    },
    {
      "cell_type": "code",
      "source": [
        "#Dropping the Null values in dataset"
      ],
      "metadata": {
        "id": "waopE5uVwk35"
      },
      "execution_count": null,
      "outputs": []
    },
    {
      "cell_type": "code",
      "source": [
        "#Check the NAs in dataset for Age\n"
      ],
      "metadata": {
        "id": "THM2hG176SGu"
      },
      "execution_count": null,
      "outputs": []
    },
    {
      "cell_type": "code",
      "source": [
        "data.describe().T"
      ],
      "metadata": {
        "execution": {
          "iopub.status.busy": "2022-10-25T12:54:48.933194Z",
          "iopub.execute_input": "2022-10-25T12:54:48.93453Z",
          "iopub.status.idle": "2022-10-25T12:54:48.975531Z",
          "shell.execute_reply.started": "2022-10-25T12:54:48.93447Z",
          "shell.execute_reply": "2022-10-25T12:54:48.973213Z"
        },
        "trusted": true,
        "id": "7bNRlDT0iodz"
      },
      "execution_count": null,
      "outputs": []
    },
    {
      "cell_type": "markdown",
      "source": [
        "# **Exploratory Data Analysis**"
      ],
      "metadata": {
        "id": "DJ09ImnBiod1"
      }
    },
    {
      "cell_type": "markdown",
      "source": [
        "### Dividing features into Numerical and Categorical :"
      ],
      "metadata": {
        "id": "lIiDWxsmiod1"
      }
    },
    {
      "cell_type": "code",
      "source": [
        "col = list(data.columns)\n",
        "categorical_features = []\n",
        "numerical_features = []\n",
        "for i in col:\n",
        "    if len(data[i].unique()) > 6:\n",
        "        numerical_features.append(i)\n",
        "    else:\n",
        "        categorical_features.append(i)\n",
        "\n",
        "print('Categorical Features :',*categorical_features)\n",
        "print('Numerical Features :',*numerical_features)"
      ],
      "metadata": {
        "execution": {
          "iopub.status.busy": "2022-10-25T12:54:49.31956Z",
          "iopub.execute_input": "2022-10-25T12:54:49.321016Z",
          "iopub.status.idle": "2022-10-25T12:54:49.335379Z",
          "shell.execute_reply.started": "2022-10-25T12:54:49.320952Z",
          "shell.execute_reply": "2022-10-25T12:54:49.334002Z"
        },
        "trusted": true,
        "colab": {
          "base_uri": "https://localhost:8080/"
        },
        "id": "qvd4Y8vEiod1",
        "outputId": "7e75914c-dbc1-40f8-9c94-f483618156ca"
      },
      "execution_count": null,
      "outputs": [
        {
          "output_type": "stream",
          "name": "stdout",
          "text": [
            "Categorical Features : Sex ChestPainType FastingBS RestingECG ExerciseAngina ST_Slope HeartDisease\n",
            "Numerical Features : Age RestingBP Cholesterol MaxHR Oldpeak\n"
          ]
        }
      ]
    },
    {
      "cell_type": "markdown",
      "source": [
        "- Here, categorical features are defined if the the attribute has less than 6 unique elements else it is a numerical feature.\n",
        "- Typical approach for this division of features can also be based on the datatypes of the elements of the respective attribute.\n",
        "\n",
        "**Eg :** datatype = integer, attribute = numerical feature ; datatype = string, attribute = categorical feature\n",
        "\n",
        "- For this dataset, as the number of features are less, we can manually check the dataset as well."
      ],
      "metadata": {
        "id": "Q-GiuHbuiod1"
      }
    },
    {
      "cell_type": "markdown",
      "source": [
        "### Categorical Features :"
      ],
      "metadata": {
        "id": "0U7bxOoRiod1"
      }
    },
    {
      "cell_type": "code",
      "source": [
        "data.head()"
      ],
      "metadata": {
        "id": "XuGA1vcpL2fD"
      },
      "execution_count": null,
      "outputs": []
    },
    {
      "cell_type": "code",
      "source": [],
      "metadata": {
        "id": "keBbeVc3yy45"
      },
      "execution_count": null,
      "outputs": []
    },
    {
      "cell_type": "code",
      "source": [
        "from sklearn.preprocessing import LabelEncoder\n",
        "le = LabelEncoder()\n",
        "data_transformed = data.copy(deep = True)\n",
        "\n",
        "data_transformed['Sex'] = le.fit_transform(data_transformed['Sex'])\n",
        "#Similarly for ChestPainType, RestingECG, ExerciseAngina, ST_Slope"
      ],
      "metadata": {
        "execution": {
          "iopub.status.busy": "2022-10-25T12:54:49.336814Z",
          "iopub.execute_input": "2022-10-25T12:54:49.337315Z",
          "iopub.status.idle": "2022-10-25T12:54:49.424038Z",
          "shell.execute_reply.started": "2022-10-25T12:54:49.337262Z",
          "shell.execute_reply": "2022-10-25T12:54:49.421702Z"
        },
        "trusted": true,
        "id": "smWx_JJciod1"
      },
      "execution_count": null,
      "outputs": []
    },
    {
      "cell_type": "markdown",
      "source": [
        "- Creating a deep copy of the orginal dataset and label encoding the text data of the categorical features.\n",
        "- Modifications in the original dataset will not be highlighted in this deep copy.\n",
        "- Hence, we use this deep copy of dataset that has all the features converted into numerical values for visualization & modeling purposes."
      ],
      "metadata": {
        "id": "-Ny7b4_Qiod2"
      }
    },
    {
      "cell_type": "code",
      "source": [
        "data_transformed.head()"
      ],
      "metadata": {
        "id": "xx6nN5OUygFE"
      },
      "execution_count": null,
      "outputs": []
    },
    {
      "cell_type": "markdown",
      "source": [
        "#### Distribution of Categorical Features :"
      ],
      "metadata": {
        "id": "hdTWPTfdiod2"
      }
    },
    {
      "cell_type": "code",
      "source": [
        "fig, ax = plt.subplots(nrows = 3,ncols = 2,figsize = (10,15))\n",
        "for i in range(len(categorical_features) - 1):\n",
        "\n",
        "    plt.subplot(3,2,i+1)\n",
        "    sns.distplot(data_transformed[categorical_features[i]],kde_kws = {'bw' : 1});\n",
        "    title = 'Distribution : ' + categorical_features[i]\n",
        "    plt.title(title)\n",
        "\n",
        "plt.figure(figsize = (4.75,4.55))\n",
        "sns.distplot(data_transformed[categorical_features[len(categorical_features) - 1]],kde_kws = {'bw' : 1})\n",
        "title = 'Distribution : ' + categorical_features[len(categorical_features) - 1]\n",
        "plt.title(title);"
      ],
      "metadata": {
        "execution": {
          "iopub.status.busy": "2022-10-25T12:54:49.425955Z",
          "iopub.execute_input": "2022-10-25T12:54:49.426662Z",
          "iopub.status.idle": "2022-10-25T12:54:50.66444Z",
          "shell.execute_reply.started": "2022-10-25T12:54:49.426575Z",
          "shell.execute_reply": "2022-10-25T12:54:50.662756Z"
        },
        "trusted": true,
        "id": "zw2DbzWViod2"
      },
      "execution_count": null,
      "outputs": []
    },
    {
      "cell_type": "markdown",
      "source": [
        "- All the categorical features are near about **Normally Distributed**."
      ],
      "metadata": {
        "id": "1jYAOFvSiod2"
      }
    },
    {
      "cell_type": "code",
      "source": [
        "output_counts = data_transformed['HeartDisease'].value_counts()\n",
        "\n",
        "# Plotting the pie chart using Seaborn\n",
        "plt.figure(figsize=(3, 3))\n",
        "sns.set(style=\"whitegrid\")\n",
        "sns.color_palette(\"pastel\")\n",
        "sns.set_palette(\"pastel\")\n",
        "plt.pie(output_counts, labels=output_counts.index, autopct='%1.1f%%', startangle=140)\n",
        "plt.title('Distribution of Output Variable')\n",
        "plt.show()"
      ],
      "metadata": {
        "id": "3U7ZyaKkztVb"
      },
      "execution_count": null,
      "outputs": []
    },
    {
      "cell_type": "code",
      "source": [
        "pd.DataFrame(data['HeartDisease']).value_counts().plot(kind = 'bar')"
      ],
      "metadata": {
        "id": "SyvhzwDW0s94"
      },
      "execution_count": null,
      "outputs": []
    },
    {
      "cell_type": "markdown",
      "source": [
        "### Numerical Features :\n",
        "\n",
        "#### Distribution of Numerical Features :"
      ],
      "metadata": {
        "id": "e7Hr5P7riod2"
      }
    },
    {
      "cell_type": "code",
      "source": [
        "fig, ax = plt.subplots(nrows = 2,ncols = 2,figsize = (9,9))\n",
        "for i in range(len(numerical_features) - 1):\n",
        "    plt.subplot(2,2,i+1)\n",
        "    sns.distplot(data[numerical_features[i]])\n",
        "    title = 'Distribution : ' + numerical_features[i]\n",
        "    plt.title(title)\n",
        "plt.show()\n",
        "\n",
        "plt.figure(figsize = (4.75,4.55))\n",
        "sns.distplot(data_transformed[numerical_features[len(numerical_features) - 1]],kde_kws = {'bw' : 1})\n",
        "title = 'Distribution : ' + numerical_features[len(numerical_features) - 1]\n",
        "plt.title(title);"
      ],
      "metadata": {
        "execution": {
          "iopub.status.busy": "2022-10-25T12:54:50.666083Z",
          "iopub.execute_input": "2022-10-25T12:54:50.6665Z",
          "iopub.status.idle": "2022-10-25T12:54:51.810244Z",
          "shell.execute_reply.started": "2022-10-25T12:54:50.666464Z",
          "shell.execute_reply": "2022-10-25T12:54:51.808993Z"
        },
        "trusted": true,
        "id": "_MXfuCAjiod2"
      },
      "execution_count": null,
      "outputs": []
    },
    {
      "cell_type": "markdown",
      "source": [
        "- **Oldpeak's** data distribution is rightly skewed.\n",
        "- **Cholestrol** has a bidmodal data distribution."
      ],
      "metadata": {
        "id": "ILoBFPAdiod2"
      }
    }
  ]
}